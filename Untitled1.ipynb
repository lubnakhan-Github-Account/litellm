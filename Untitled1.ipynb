{
  "nbformat": 4,
  "nbformat_minor": 0,
  "metadata": {
    "colab": {
      "provenance": [],
      "authorship_tag": "ABX9TyOJwTb03xcHl8r9l8Dx4G9V",
      "include_colab_link": true
    },
    "kernelspec": {
      "name": "python3",
      "display_name": "Python 3"
    },
    "language_info": {
      "name": "python"
    }
  },
  "cells": [
    {
      "cell_type": "markdown",
      "metadata": {
        "id": "view-in-github",
        "colab_type": "text"
      },
      "source": [
        "<a href=\"https://colab.research.google.com/github/lubnakhan-Github-Account/litellm/blob/main/Untitled1.ipynb\" target=\"_parent\"><img src=\"https://colab.research.google.com/assets/colab-badge.svg\" alt=\"Open In Colab\"/></a>"
      ]
    },
    {
      "cell_type": "markdown",
      "source": [
        "# ***Agent with Litellm***"
      ],
      "metadata": {
        "id": "f2MubnZAW4Y7"
      }
    },
    {
      "cell_type": "code",
      "execution_count": null,
      "metadata": {
        "id": "6fr0u5suWeZg"
      },
      "outputs": [],
      "source": [
        "! pip install openai-agents[litellm]"
      ]
    },
    {
      "cell_type": "code",
      "source": [
        "from google.colab import userdata\n",
        "api_key=userdata.get(\"GEMINI_API_KEY\")\n",
        "\n",
        "model_name= \"gemini/gemini-2.0-flash\"\n"
      ],
      "metadata": {
        "id": "C-E4dyT1YPTL"
      },
      "execution_count": null,
      "outputs": []
    },
    {
      "cell_type": "code",
      "source": [
        "from agents import Agent, Runner\n",
        "from agents.extensions.models.litellm_model import LitellmModel\n",
        "import nest_asyncio\n",
        "nest_asyncio.apply()\n",
        "\n",
        "agent= Agent(\n",
        "    name=\"test_agent\",\n",
        "    instructions=\"you are a helful assistent.\",\n",
        "    model=LitellmModel(model=model_name,api_key=api_key)\n",
        ")\n",
        "result= Runner.run_sync(starting_agent=agent, input=\"hi\")\n",
        "print(result.final_output)"
      ],
      "metadata": {
        "colab": {
          "base_uri": "https://localhost:8080/"
        },
        "id": "B77q53F-ccRO",
        "outputId": "5713a1fd-0277-4b4f-b969-3f2c3c2f6f9a"
      },
      "execution_count": 4,
      "outputs": [
        {
          "output_type": "stream",
          "name": "stdout",
          "text": [
            "Hi there! How can I help you today?\n",
            "\n"
          ]
        },
        {
          "output_type": "stream",
          "name": "stderr",
          "text": [
            "/usr/local/lib/python3.11/dist-packages/pydantic/main.py:463: UserWarning: Pydantic serializer warnings:\n",
            "  PydanticSerializationUnexpectedValue(Expected 9 fields but got 5: Expected `Message` - serialized value may not be as expected [input_value=Message(content='Hi there...er_specific_fields=None), input_type=Message])\n",
            "  PydanticSerializationUnexpectedValue(Expected `StreamingChoices` - serialized value may not be as expected [input_value=Choices(finish_reason='st...r_specific_fields=None)), input_type=Choices])\n",
            "  return self.__pydantic_serializer__.to_python(\n"
          ]
        }
      ]
    }
  ]
}